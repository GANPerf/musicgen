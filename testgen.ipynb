{
 "cells": [
  {
   "cell_type": "code",
   "execution_count": 10,
   "metadata": {},
   "outputs": [],
   "source": [
    "import torchaudio\n",
    "from audiocraft.models import MusicGen\n",
    "from audiocraft.data.audio import audio_write\n",
    "\n",
    "import os\n",
    "import typing as tp\n",
    "\n",
    "import torch\n",
    "\n",
    "from audiocraft.models.encodec import CompressionModel\n",
    "from audiocraft.models.lm import LMModel\n",
    "from audiocraft.models.builders import get_debug_compression_model, get_debug_lm_model\n",
    "from audiocraft.models.loaders import load_compression_model, load_lm_model, HF_MODEL_CHECKPOINTS_MAP\n",
    "from audiocraft.data.audio_utils import convert_audio\n",
    "from audiocraft.modules.conditioners import ConditioningAttributes, WavCondition\n",
    "from audiocraft.utils.autocast import TorchAutocast\n",
    "\n",
    "model = MusicGen.get_pretrained('small')\n",
    "\n",
    "self = model"
   ]
  },
  {
   "cell_type": "code",
   "execution_count": 18,
   "metadata": {},
   "outputs": [
    {
     "data": {
      "text/plain": [
       "<All keys matched successfully>"
      ]
     },
     "execution_count": 18,
     "metadata": {},
     "output_type": "execute_result"
    }
   ],
   "source": [
    "self.lm.load_state_dict(torch.load('/home/ubuntu/saved_models/lm_300.pt'))"
   ]
  },
  {
   "cell_type": "code",
   "execution_count": 19,
   "metadata": {},
   "outputs": [
    {
     "name": "stdout",
     "output_type": "stream",
     "text": [
      "attributes: [ConditioningAttributes(text={'description': 'jazz, bossa nova, by jobim, barzil music, peacefull, pleasant'}, wav={'self_wav': WavCondition(wav=tensor([[0.]], device='cuda:0'), length=tensor([0], device='cuda:0'), path='null_wav')})]\n",
      "prompt_tokens: None\n"
     ]
    }
   ],
   "source": [
    "attributes, prompt_tokens = self._prepare_tokens_and_attributes([\"jazz, bossa nova, by jobim, barzil music, peacefull, pleasant\"], None)\n",
    "print(\"attributes:\", attributes)\n",
    "print(\"prompt_tokens:\", prompt_tokens)"
   ]
  },
  {
   "cell_type": "code",
   "execution_count": 20,
   "metadata": {},
   "outputs": [],
   "source": [
    "duration = 30\n",
    "\n",
    "use_sampling = True\n",
    "top_k = 250\n",
    "top_p = 0.0\n",
    "temperature = 1.0\n",
    "cfg_coef = 3.0\n",
    "two_step_cfg = False\n",
    "\n",
    "assert duration <= 30, \"The MusicGen cannot generate more than 30 seconds\"\n",
    "\n",
    "self.generation_params = {\n",
    "    'max_gen_len': int(duration * self.frame_rate),\n",
    "    'use_sampling': use_sampling,\n",
    "    'temp': temperature,\n",
    "    'top_k': top_k,\n",
    "    'top_p': top_p,\n",
    "    'cfg_coef': cfg_coef,\n",
    "    'two_step_cfg': two_step_cfg,\n",
    "}"
   ]
  },
  {
   "cell_type": "code",
   "execution_count": 21,
   "metadata": {},
   "outputs": [],
   "source": [
    "with self.autocast:\n",
    "    gen_tokens = self.lm.generate(prompt_tokens, attributes, callback=None, **self.generation_params)"
   ]
  },
  {
   "cell_type": "code",
   "execution_count": 22,
   "metadata": {},
   "outputs": [
    {
     "name": "stdout",
     "output_type": "stream",
     "text": [
      "gen_tokens information\n",
      "Shape: torch.Size([1, 4, 1500])\n",
      "Dtype: torch.int64\n",
      "Contents: tensor([[[1978,  328,  480,  ..., 1073, 1306, 1064],\n",
      "         [1386, 1968, 1802,  ..., 1732, 1757, 1732],\n",
      "         [ 114, 1945, 1708,  ...,   47,   77,   31],\n",
      "         [ 866, 1670, 1434,  ...,  327, 1992, 1407]]], device='cuda:0')\n"
     ]
    }
   ],
   "source": [
    "assert gen_tokens.dim() == 3\n",
    "print(\"gen_tokens information\")\n",
    "print(\"Shape:\", gen_tokens.shape)\n",
    "print(\"Dtype:\", gen_tokens.dtype)\n",
    "print(\"Contents:\", gen_tokens)"
   ]
  },
  {
   "cell_type": "code",
   "execution_count": 23,
   "metadata": {},
   "outputs": [
    {
     "name": "stdout",
     "output_type": "stream",
     "text": [
      "gen_audio information\n",
      "Shape: torch.Size([1, 1, 960000])\n",
      "Dtype: torch.float32\n",
      "Contents: tensor([[[0.0397, 0.0378, 0.0393,  ..., 0.0136, 0.0029, 0.0177]]],\n",
      "       device='cuda:0')\n"
     ]
    }
   ],
   "source": [
    "with torch.no_grad():\n",
    "    gen_audio = self.compression_model.decode(gen_tokens, None)\n",
    "print(\"gen_audio information\")\n",
    "print(\"Shape:\", gen_audio.shape)\n",
    "print(\"Dtype:\", gen_audio.dtype)\n",
    "print(\"Contents:\", gen_audio)\n"
   ]
  },
  {
   "cell_type": "code",
   "execution_count": 24,
   "metadata": {},
   "outputs": [],
   "source": [
    "gen_audio = gen_audio.cpu()\n",
    "torchaudio.save(\"/home/ubuntu/test.wav\", gen_audio[0], self.sample_rate)"
   ]
  },
  {
   "cell_type": "code",
   "execution_count": 11,
   "metadata": {},
   "outputs": [],
   "source": [
    "from audiocraft.data.audio import normalize_audio\n",
    "torchaudio.save(\"/home/ubuntu/test_norm.wav\", normalize_audio(gen_audio[0]), self.sample_rate)"
   ]
  },
  {
   "cell_type": "code",
   "execution_count": 14,
   "metadata": {},
   "outputs": [
    {
     "data": {
      "text/plain": [
       "torch.Size([2, 1323008])"
      ]
     },
     "execution_count": 14,
     "metadata": {},
     "output_type": "execute_result"
    }
   ],
   "source": [
    "wav = torchaudio.load(\"/home/ubuntu/archivo/segment_008.wav\")[0]\n",
    "wav.shape"
   ]
  },
  {
   "cell_type": "code",
   "execution_count": 18,
   "metadata": {},
   "outputs": [],
   "source": [
    "wav, sr = torchaudio.load(\"/home/ubuntu/dataset/child.wav\")\n",
    "wav = torchaudio.functional.resample(wav, sr, self.sample_rate)\n",
    "\n",
    "wav = wav.mean(dim=0, keepdim=True)\n",
    "\n",
    "wav = wav.unsqueeze(0)\n",
    "\n",
    "tmp = model.compression_model.encode(wav.cuda())\n",
    "tmp = model.compression_model.decode(tmp[0], None)\n",
    "tmp = tmp.cpu()\n",
    "\n",
    "torchaudio.save(\"/home/ubuntu/child_decenc.wav\", tmp[0], self.sample_rate)\n"
   ]
  }
 ],
 "metadata": {
  "kernelspec": {
   "display_name": "env",
   "language": "python",
   "name": "python3"
  },
  "language_info": {
   "codemirror_mode": {
    "name": "ipython",
    "version": 3
   },
   "file_extension": ".py",
   "mimetype": "text/x-python",
   "name": "python",
   "nbconvert_exporter": "python",
   "pygments_lexer": "ipython3",
   "version": "3.10.12"
  },
  "orig_nbformat": 4
 },
 "nbformat": 4,
 "nbformat_minor": 2
}
